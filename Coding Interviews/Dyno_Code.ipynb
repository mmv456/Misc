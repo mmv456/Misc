{
  "nbformat": 4,
  "nbformat_minor": 0,
  "metadata": {
    "colab": {
      "name": "Dyno Code.ipynb",
      "provenance": [],
      "collapsed_sections": [],
      "authorship_tag": "ABX9TyNyBpgGYHMW9P0PRLX/0yB+",
      "include_colab_link": true
    },
    "kernelspec": {
      "name": "python3",
      "display_name": "Python 3"
    },
    "language_info": {
      "name": "python"
    }
  },
  "cells": [
    {
      "cell_type": "markdown",
      "metadata": {
        "id": "view-in-github",
        "colab_type": "text"
      },
      "source": [
        "<a href=\"https://colab.research.google.com/github/mmv456/Misc/blob/main/Dyno_Code.ipynb\" target=\"_parent\"><img src=\"https://colab.research.google.com/assets/colab-badge.svg\" alt=\"Open In Colab\"/></a>"
      ]
    },
    {
      "cell_type": "markdown",
      "source": [
        "Authenticate to GCP, follow given directions"
      ],
      "metadata": {
        "id": "eLFsYRrEYmco"
      }
    },
    {
      "cell_type": "code",
      "source": [
        "from google.colab import auth\n",
        "auth.authenticate_user()"
      ],
      "metadata": {
        "id": "kGtD5UKBVcTZ"
      },
      "execution_count": 115,
      "outputs": []
    },
    {
      "cell_type": "markdown",
      "source": [
        "Enter project ID"
      ],
      "metadata": {
        "id": "OAJFDiQmYu9j"
      }
    },
    {
      "cell_type": "code",
      "source": [
        "project_id = 'dyno-sequence-api'"
      ],
      "metadata": {
        "id": "SP2M0CFhWS7r"
      },
      "execution_count": 116,
      "outputs": []
    },
    {
      "cell_type": "markdown",
      "source": [
        "Import BigQuery"
      ],
      "metadata": {
        "id": "L23e2e7CYxWm"
      }
    },
    {
      "cell_type": "code",
      "source": [
        "from google.cloud import bigquery"
      ],
      "metadata": {
        "id": "R85RHLnGWfVz"
      },
      "execution_count": 117,
      "outputs": []
    },
    {
      "cell_type": "markdown",
      "source": [
        "Set the BigQuery project to the project specified"
      ],
      "metadata": {
        "id": "PlRcd9ZsY0Ij"
      }
    },
    {
      "cell_type": "code",
      "source": [
        "client = bigquery.Client(project=project_id)"
      ],
      "metadata": {
        "id": "J8IDF-48WkOW"
      },
      "execution_count": 118,
      "outputs": []
    },
    {
      "cell_type": "markdown",
      "source": [
        ""
      ],
      "metadata": {
        "id": "jiUyvSGlY6lD"
      }
    },
    {
      "cell_type": "code",
      "source": [
        "dataset_ref = client.dataset(\"sequence_data\", project=project_id)\n",
        "dataset = client.get_dataset(dataset_ref)"
      ],
      "metadata": {
        "id": "9q9Qf4nPXQfl"
      },
      "execution_count": 119,
      "outputs": []
    },
    {
      "cell_type": "code",
      "source": [
        "tables = list(client.list_tables(dataset))\n",
        "\n",
        "for table in tables:\n",
        "  print(table.table_id)"
      ],
      "metadata": {
        "colab": {
          "base_uri": "https://localhost:8080/"
        },
        "id": "v2un3eUqXvX7",
        "outputId": "8abe0b05-4341-4473-be50-a925a18522d2"
      },
      "execution_count": 120,
      "outputs": [
        {
          "output_type": "stream",
          "name": "stdout",
          "text": [
            "Sequences_Data\n"
          ]
        }
      ]
    },
    {
      "cell_type": "code",
      "source": [
        "table_ref = dataset_ref.table('Sequences_Data')\n",
        "table = client.get_table(table_ref)"
      ],
      "metadata": {
        "id": "ESVr9_66X_dS"
      },
      "execution_count": 121,
      "outputs": []
    },
    {
      "cell_type": "code",
      "source": [
        "table.schema"
      ],
      "metadata": {
        "colab": {
          "base_uri": "https://localhost:8080/"
        },
        "id": "NyHrzVz2YOOA",
        "outputId": "a2b37afe-2357-478a-a007-18b9c5d89b31"
      },
      "execution_count": 122,
      "outputs": [
        {
          "output_type": "execute_result",
          "data": {
            "text/plain": [
              "[SchemaField('SeqRecord', 'STRING', 'NULLABLE', None, ()),\n",
              " SchemaField('HashOfFile', 'STRING', 'NULLABLE', None, ())]"
            ]
          },
          "metadata": {},
          "execution_count": 122
        }
      ]
    },
    {
      "cell_type": "code",
      "source": [
        "client.list_rows(table, max_results = 10).to_dataframe()"
      ],
      "metadata": {
        "colab": {
          "base_uri": "https://localhost:8080/",
          "height": 269
        },
        "id": "zgxIAV8qYbj8",
        "outputId": "540e0ca0-f38e-4f54-8022-20759e34313c"
      },
      "execution_count": 124,
      "outputs": [
        {
          "output_type": "execute_result",
          "data": {
            "text/html": [
              "\n",
              "  <div id=\"df-4eb1414d-59e0-47f7-8af3-3d3f1130671b\">\n",
              "    <div class=\"colab-df-container\">\n",
              "      <div>\n",
              "<style scoped>\n",
              "    .dataframe tbody tr th:only-of-type {\n",
              "        vertical-align: middle;\n",
              "    }\n",
              "\n",
              "    .dataframe tbody tr th {\n",
              "        vertical-align: top;\n",
              "    }\n",
              "\n",
              "    .dataframe thead th {\n",
              "        text-align: right;\n",
              "    }\n",
              "</style>\n",
              "<table border=\"1\" class=\"dataframe\">\n",
              "  <thead>\n",
              "    <tr style=\"text-align: right;\">\n",
              "      <th></th>\n",
              "      <th>SeqRecord</th>\n",
              "      <th>HashOfFile</th>\n",
              "    </tr>\n",
              "  </thead>\n",
              "  <tbody>\n",
              "    <tr>\n",
              "      <th>0</th>\n",
              "      <td>My first sequence data line here</td>\n",
              "      <td>SomeHash</td>\n",
              "    </tr>\n",
              "    <tr>\n",
              "      <th>1</th>\n",
              "      <td>My second sequence data line here</td>\n",
              "      <td>SomeHash</td>\n",
              "    </tr>\n",
              "    <tr>\n",
              "      <th>2</th>\n",
              "      <td>My second sequence data line here</td>\n",
              "      <td>SomeHash</td>\n",
              "    </tr>\n",
              "    <tr>\n",
              "      <th>3</th>\n",
              "      <td>My second sequence data line here</td>\n",
              "      <td>SomeHash</td>\n",
              "    </tr>\n",
              "    <tr>\n",
              "      <th>4</th>\n",
              "      <td>My second sequence data line here</td>\n",
              "      <td>SomeHash</td>\n",
              "    </tr>\n",
              "    <tr>\n",
              "      <th>5</th>\n",
              "      <td>My second sequence data line here</td>\n",
              "      <td>SomeHash</td>\n",
              "    </tr>\n",
              "    <tr>\n",
              "      <th>6</th>\n",
              "      <td>My tgrgertgtrh sequence data line here</td>\n",
              "      <td>SomeHash</td>\n",
              "    </tr>\n",
              "  </tbody>\n",
              "</table>\n",
              "</div>\n",
              "      <button class=\"colab-df-convert\" onclick=\"convertToInteractive('df-4eb1414d-59e0-47f7-8af3-3d3f1130671b')\"\n",
              "              title=\"Convert this dataframe to an interactive table.\"\n",
              "              style=\"display:none;\">\n",
              "        \n",
              "  <svg xmlns=\"http://www.w3.org/2000/svg\" height=\"24px\"viewBox=\"0 0 24 24\"\n",
              "       width=\"24px\">\n",
              "    <path d=\"M0 0h24v24H0V0z\" fill=\"none\"/>\n",
              "    <path d=\"M18.56 5.44l.94 2.06.94-2.06 2.06-.94-2.06-.94-.94-2.06-.94 2.06-2.06.94zm-11 1L8.5 8.5l.94-2.06 2.06-.94-2.06-.94L8.5 2.5l-.94 2.06-2.06.94zm10 10l.94 2.06.94-2.06 2.06-.94-2.06-.94-.94-2.06-.94 2.06-2.06.94z\"/><path d=\"M17.41 7.96l-1.37-1.37c-.4-.4-.92-.59-1.43-.59-.52 0-1.04.2-1.43.59L10.3 9.45l-7.72 7.72c-.78.78-.78 2.05 0 2.83L4 21.41c.39.39.9.59 1.41.59.51 0 1.02-.2 1.41-.59l7.78-7.78 2.81-2.81c.8-.78.8-2.07 0-2.86zM5.41 20L4 18.59l7.72-7.72 1.47 1.35L5.41 20z\"/>\n",
              "  </svg>\n",
              "      </button>\n",
              "      \n",
              "  <style>\n",
              "    .colab-df-container {\n",
              "      display:flex;\n",
              "      flex-wrap:wrap;\n",
              "      gap: 12px;\n",
              "    }\n",
              "\n",
              "    .colab-df-convert {\n",
              "      background-color: #E8F0FE;\n",
              "      border: none;\n",
              "      border-radius: 50%;\n",
              "      cursor: pointer;\n",
              "      display: none;\n",
              "      fill: #1967D2;\n",
              "      height: 32px;\n",
              "      padding: 0 0 0 0;\n",
              "      width: 32px;\n",
              "    }\n",
              "\n",
              "    .colab-df-convert:hover {\n",
              "      background-color: #E2EBFA;\n",
              "      box-shadow: 0px 1px 2px rgba(60, 64, 67, 0.3), 0px 1px 3px 1px rgba(60, 64, 67, 0.15);\n",
              "      fill: #174EA6;\n",
              "    }\n",
              "\n",
              "    [theme=dark] .colab-df-convert {\n",
              "      background-color: #3B4455;\n",
              "      fill: #D2E3FC;\n",
              "    }\n",
              "\n",
              "    [theme=dark] .colab-df-convert:hover {\n",
              "      background-color: #434B5C;\n",
              "      box-shadow: 0px 1px 3px 1px rgba(0, 0, 0, 0.15);\n",
              "      filter: drop-shadow(0px 1px 2px rgba(0, 0, 0, 0.3));\n",
              "      fill: #FFFFFF;\n",
              "    }\n",
              "  </style>\n",
              "\n",
              "      <script>\n",
              "        const buttonEl =\n",
              "          document.querySelector('#df-4eb1414d-59e0-47f7-8af3-3d3f1130671b button.colab-df-convert');\n",
              "        buttonEl.style.display =\n",
              "          google.colab.kernel.accessAllowed ? 'block' : 'none';\n",
              "\n",
              "        async function convertToInteractive(key) {\n",
              "          const element = document.querySelector('#df-4eb1414d-59e0-47f7-8af3-3d3f1130671b');\n",
              "          const dataTable =\n",
              "            await google.colab.kernel.invokeFunction('convertToInteractive',\n",
              "                                                     [key], {});\n",
              "          if (!dataTable) return;\n",
              "\n",
              "          const docLinkHtml = 'Like what you see? Visit the ' +\n",
              "            '<a target=\"_blank\" href=https://colab.research.google.com/notebooks/data_table.ipynb>data table notebook</a>'\n",
              "            + ' to learn more about interactive tables.';\n",
              "          element.innerHTML = '';\n",
              "          dataTable['output_type'] = 'display_data';\n",
              "          await google.colab.output.renderOutput(dataTable, element);\n",
              "          const docLink = document.createElement('div');\n",
              "          docLink.innerHTML = docLinkHtml;\n",
              "          element.appendChild(docLink);\n",
              "        }\n",
              "      </script>\n",
              "    </div>\n",
              "  </div>\n",
              "  "
            ],
            "text/plain": [
              "                                SeqRecord HashOfFile\n",
              "0        My first sequence data line here   SomeHash\n",
              "1       My second sequence data line here   SomeHash\n",
              "2       My second sequence data line here   SomeHash\n",
              "3       My second sequence data line here   SomeHash\n",
              "4       My second sequence data line here   SomeHash\n",
              "5       My second sequence data line here   SomeHash\n",
              "6  My tgrgertgtrh sequence data line here   SomeHash"
            ]
          },
          "metadata": {},
          "execution_count": 124
        }
      ]
    },
    {
      "cell_type": "markdown",
      "source": [
        "Do a sample query into what's in the data"
      ],
      "metadata": {
        "id": "Yz1TMkAgcmxL"
      }
    },
    {
      "cell_type": "code",
      "source": [
        "select_all_query = \"\"\"\n",
        "                    SELECT *\n",
        "                    FROM `dyno-sequence-api.sequence_data.Sequences_Data`\n",
        "                   \"\"\"\n",
        "safe_config = bigquery.QueryJobConfig(maximum_bytes_billed=10**10)\n",
        "query_job = client.query(select_all_query, job_config=safe_config)\n",
        "\n",
        "print(query_job.to_dataframe())"
      ],
      "metadata": {
        "colab": {
          "base_uri": "https://localhost:8080/"
        },
        "id": "-JR7MRblbINL",
        "outputId": "571f83e9-bc74-4d9a-e2ae-e5d0eea02af5"
      },
      "execution_count": 126,
      "outputs": [
        {
          "output_type": "stream",
          "name": "stdout",
          "text": [
            "                                SeqRecord HashOfFile\n",
            "0        My first sequence data line here   SomeHash\n",
            "1  My tgrgertgtrh sequence data line here   SomeHash\n",
            "2       My second sequence data line here   SomeHash\n",
            "3       My second sequence data line here   SomeHash\n",
            "4       My second sequence data line here   SomeHash\n",
            "5       My second sequence data line here   SomeHash\n",
            "6       My second sequence data line here   SomeHash\n"
          ]
        }
      ]
    },
    {
      "cell_type": "markdown",
      "source": [
        "Add some data in the table"
      ],
      "metadata": {
        "id": "MQWlvDYOcspT"
      }
    },
    {
      "cell_type": "code",
      "source": [
        "insert_line_one = \"\"\"\n",
        "                    INSERT INTO `dyno-sequence-api.sequence_data.Sequences_Data`\n",
        "                    VALUES(\"My tgrgertgtrh sequence data line here\", \"SomeHash\")\n",
        "                  \"\"\"\n",
        "safe_config = bigquery.QueryJobConfig(maximum_bytes_billed=10**10)\n",
        "query_job = client.query(insert_line_one, job_config=safe_config)"
      ],
      "metadata": {
        "id": "J4YAEOWFcujm"
      },
      "execution_count": 113,
      "outputs": []
    },
    {
      "cell_type": "markdown",
      "source": [
        "Try to add rows from the file"
      ],
      "metadata": {
        "id": "VZiSmUxajdtY"
      }
    },
    {
      "cell_type": "code",
      "source": [
        "#from google.colab import auth\n",
        "#auth.authenticate_user()\n",
        "\n",
        "# https://cloud.google.com/resource-manager/docs/creating-managing-projects\n",
        "project_id = 'dyno-sequence-api'\n",
        "!gcloud config set project {project_id}"
      ],
      "metadata": {
        "colab": {
          "base_uri": "https://localhost:8080/"
        },
        "id": "ou1SIqA_n-4W",
        "outputId": "4d1f20ca-d783-4ac1-ff69-dc773e26ddd0"
      },
      "execution_count": 127,
      "outputs": [
        {
          "output_type": "stream",
          "name": "stdout",
          "text": [
            "Updated property [core/project].\n"
          ]
        }
      ]
    },
    {
      "cell_type": "code",
      "source": [
        "# Download the file from a given Google Cloud Storage bucket.\n",
        "!gsutil cp gs://seq_data_feb/Parvoviridae_full_130_refseq_sequence.gz /tmp/Parvoviridae_full_130_refseq_sequence.gz\n",
        "\n",
        "  \n",
        "# Print the result to make sure the transfer worked.\n",
        "#!cat /tmp/Parvoviridae_full_130_refseq_sequence.gz"
      ],
      "metadata": {
        "colab": {
          "base_uri": "https://localhost:8080/"
        },
        "id": "siYYjC88oEf0",
        "outputId": "0605cf73-0cf7-4583-cb1d-9a93f3cbb3b1"
      },
      "execution_count": 128,
      "outputs": [
        {
          "output_type": "stream",
          "name": "stdout",
          "text": [
            "Copying gs://seq_data_feb/Parvoviridae_full_130_refseq_sequence.gz...\n",
            "/ [0 files][    0.0 B/205.5 KiB]                                                \r/ [1 files][205.5 KiB/205.5 KiB]                                                \r\n",
            "Operation completed over 1 objects/205.5 KiB.                                    \n"
          ]
        }
      ]
    },
    {
      "cell_type": "code",
      "source": [
        "from Bio import SeqIO\n",
        "# Used to convert the fastq stream into a file handle\n",
        "from io import StringIO\n",
        "from gzip import open as gzopen\n",
        "import hashlib"
      ],
      "metadata": {
        "id": "AiSw8u0Gjwo_"
      },
      "execution_count": 129,
      "outputs": []
    },
    {
      "cell_type": "code",
      "source": [
        "filename=\"/tmp/Parvoviridae_full_130_refseq_sequence.gz\"\n",
        "fileMD5Hash =\"\"\n",
        "\n",
        "md5_hash = hashlib.md5()\n",
        "\n",
        "a_file = open(filename, \"rb\")\n",
        "content = a_file.read()\n",
        "md5_hash.update(content)\n",
        "\n",
        "digest = md5_hash.hexdigest()\n",
        "fileMD5Hash=digest"
      ],
      "metadata": {
        "id": "AUsxYCYrjzt0"
      },
      "execution_count": 130,
      "outputs": []
    },
    {
      "cell_type": "code",
      "source": [
        "records = SeqIO.parse(\n",
        "    # There is actually simpler (thanks @peterjc)\n",
        "    # StringIO(gzopen(\"random_10.fastq.gz\").read().decode(\"utf-8\")),\n",
        "    gzopen(\"/tmp/Parvoviridae_full_130_refseq_sequence.gz\", \"rt\"),\n",
        "    format=\"fasta\")\n",
        "\n",
        "try:\n",
        "  for read in records:\n",
        "\n",
        "    # Only export reads that have a G in positions 7, 8,\n",
        "    # and 9\n",
        "    #if read.seq[6:9] == \"GGG\":\n",
        "    #print(read.format(\"fasta\"))\n",
        "    # insert read and fileMD5Hash in two columns\n",
        "    #try:\n",
        "\n",
        "      insert_str = \"\"\" INSERT INTO `dyno-sequence-api.sequence_data.Sequences_Data`\n",
        "      VALUES({0}, {1})\n",
        "      \"\"\"\n",
        "      print(insert_str.format(\"read\", \"fileMD5Hash\"))\n",
        "      \n",
        "      print(\"Success\")\n",
        "      safe_config = bigquery.QueryJobConfig(maximum_bytes_billed=10**10)\n",
        "      query_job = client.query(insert_str.format(\"readfile\", \"number\"), job_config=safe_config)\n",
        "      print(query_job)\n",
        "      break\n",
        "    #except Exception as e:\n",
        "    #  print(e)\n",
        "    #  print(\"fail\")\n",
        "\n",
        "    #exit()\n",
        "except Exception as e:\n",
        "  print(e)\n",
        "\n"
      ],
      "metadata": {
        "colab": {
          "base_uri": "https://localhost:8080/"
        },
        "id": "SjhObA4tj3n2",
        "outputId": "734cdd8d-cfb0-43dc-ada5-fd045072cb30"
      },
      "execution_count": 131,
      "outputs": [
        {
          "output_type": "stream",
          "name": "stdout",
          "text": [
            " INSERT INTO `dyno-sequence-api.sequence_data.Sequences_Data`\n",
            "      VALUES(read, fileMD5Hash)\n",
            "      \n",
            "Success\n",
            "<google.cloud.bigquery.job.QueryJob object at 0x7f615c894e90>\n"
          ]
        }
      ]
    }
  ]
}